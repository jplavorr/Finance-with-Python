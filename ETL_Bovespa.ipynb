{
  "nbformat": 4,
  "nbformat_minor": 0,
  "metadata": {
    "colab": {
      "name": "ETL Bovespa.ipynb",
      "provenance": [],
      "collapsed_sections": [],
      "mount_file_id": "1GtCraXD63cSZxErrlQOgJz1owdGCnwIq",
      "authorship_tag": "ABX9TyN3KBKKnbyVq0xPC24pBKta",
      "include_colab_link": true
    },
    "kernelspec": {
      "name": "python3",
      "display_name": "Python 3"
    },
    "language_info": {
      "name": "python"
    }
  },
  "cells": [
    {
      "cell_type": "markdown",
      "metadata": {
        "id": "view-in-github",
        "colab_type": "text"
      },
      "source": [
        "<a href=\"https://colab.research.google.com/github/jplavorr/Finance-with-Python/blob/main/ETL_Bovespa.ipynb\" target=\"_parent\"><img src=\"https://colab.research.google.com/assets/colab-badge.svg\" alt=\"Open In Colab\"/></a>"
      ]
    },
    {
      "cell_type": "markdown",
      "metadata": {
        "id": "OT8DYX5YL1WN"
      },
      "source": [
        "#ETL B3\n",
        "Iremos utilizar o ETL (extraction, Transformation and Load) a partir dos dados das cotações históricas da B3, transformá-los a partir de alguma regra e disponibiliza-los nesse repositório. Essa ETL servirá como base para alimentar futuros artigos sobre análise de dados e machine learning sobre dados da Bovespa.  "
      ]
    },
    {
      "cell_type": "markdown",
      "metadata": {
        "id": "sSAVKFJ4GsU6"
      },
      "source": [
        "##Obtenção dos Dados\n",
        "Iremos acessar o site da B3 para fazer o download das [séries históricas](http://www.b3.com.br/pt_br/market-data-e-indices/servicos-de-dados/market-data/historico/mercado-a-vista/series-historicas/) anuais. Iremos recolher as séries históricas de 2018 até 2021.\n",
        "\n",
        "Se trata de um arquivo posicional, aonde os dados estão disponibilizados em uma string no formato txt. Iremos transformá-los com a ajuda do layout disponibilizado pela B3 ([LAYOUT DO ARQUIVO – COTAÇÕES\n",
        "HISTÓRICAS](http://www.b3.com.br/data/files/C8/F3/08/B4/297BE410F816C9E492D828A8/SeriesHistoricas_Layout.pdf))\n",
        "e retirarmos as informações que queremos e disponibilizarmos de maneira simples. "
      ]
    },
    {
      "cell_type": "code",
      "metadata": {
        "id": "m2JC_-3BGomX"
      },
      "source": [
        "#Importando bibliotecas\n",
        "import pandas as pd"
      ],
      "execution_count": 14,
      "outputs": []
    },
    {
      "cell_type": "markdown",
      "metadata": {
        "id": "24nTYPXTQ4qe"
      },
      "source": [
        "A biblioteca `pandas` reconhece diversos tipos de arquivo. Como estamos lidando com um arquivo posicional, iremos usar o método `read_fwf`. Esse método, recebe o nome do arquivo e a posição das colunas, por isso, antes de criarmos, temos que deixar claro quais colunas iremos passar para o pandas.\n",
        "\n",
        "Olhando para o layout, vemos que os dados que queremos se encontram após o *Header* (Na transformação do código, iremos passar um comando para pular a leitura da header), as *Cotações Históricas por Papel-Mercado*. Dela, iremos retirar as informações que queremos das ações.\n",
        "\n",
        "Na primeira coluna se encontra o nome do campo e as duas últimas colunas aparecem a posição inicial e final delas na lista. Iremos usar isso para passar esses dados para o Pandas DataFrame. Irei criar duas listas, uma com o nome de cada campo e a outra com as posições que eu quero para cada campo."
      ]
    },
    {
      "cell_type": "code",
      "metadata": {
        "id": "CZmRTNmZNcGd"
      },
      "source": [
        "colspecs = [(2,10), \n",
        "            (10, 12), \n",
        "            (12,24),\n",
        "            (27,39), \n",
        "            (56,69), \n",
        "            (69,82), \n",
        "            (82,95), \n",
        "            (108,121), \n",
        "            (152,170), \n",
        "            (170, 188)\n",
        "            ]\n",
        "\n",
        "names = ['Data_Pregao', 'Cod_BDI', 'Sigla_Acao', 'Nome_Acao', 'Prec_Abertura', 'Prec_Max', \n",
        "         'Prec_Min', 'Prec_Fechamento', 'Qtd_Titulos_Negociados', 'Vol_Negocios']"
      ],
      "execution_count": 24,
      "outputs": []
    },
    {
      "cell_type": "code",
      "metadata": {
        "id": "CbiogGNbVPZw"
      },
      "source": [
        "df = pd.read_fwf('/content/drive/MyDrive/COTAHIST_A2020.TXT', colspecs=colspecs, names=names, skiprows = 1)"
      ],
      "execution_count": 25,
      "outputs": []
    },
    {
      "cell_type": "code",
      "metadata": {
        "colab": {
          "base_uri": "https://localhost:8080/",
          "height": 204
        },
        "id": "PT5GmYohWU2K",
        "outputId": "f4784e39-5ac6-48a7-dfef-3dcad3c1024d"
      },
      "source": [
        "df.head()"
      ],
      "execution_count": 26,
      "outputs": [
        {
          "output_type": "execute_result",
          "data": {
            "text/html": [
              "<div>\n",
              "<style scoped>\n",
              "    .dataframe tbody tr th:only-of-type {\n",
              "        vertical-align: middle;\n",
              "    }\n",
              "\n",
              "    .dataframe tbody tr th {\n",
              "        vertical-align: top;\n",
              "    }\n",
              "\n",
              "    .dataframe thead th {\n",
              "        text-align: right;\n",
              "    }\n",
              "</style>\n",
              "<table border=\"1\" class=\"dataframe\">\n",
              "  <thead>\n",
              "    <tr style=\"text-align: right;\">\n",
              "      <th></th>\n",
              "      <th>Data_Pregao</th>\n",
              "      <th>Cod_BDI</th>\n",
              "      <th>Sigla_Acao</th>\n",
              "      <th>Nome_Acao</th>\n",
              "      <th>Prec_Abertura</th>\n",
              "      <th>Prec_Max</th>\n",
              "      <th>Prec_Min</th>\n",
              "      <th>Prec_Fechamento</th>\n",
              "      <th>Qtd_Titulos_Negociados</th>\n",
              "      <th>Vol_Negocios</th>\n",
              "    </tr>\n",
              "  </thead>\n",
              "  <tbody>\n",
              "    <tr>\n",
              "      <th>0</th>\n",
              "      <td>20200102</td>\n",
              "      <td>2.0</td>\n",
              "      <td>AALR3</td>\n",
              "      <td>ALLIAR</td>\n",
              "      <td>1829.0</td>\n",
              "      <td>1900.0</td>\n",
              "      <td>1828.0</td>\n",
              "      <td>1900.0</td>\n",
              "      <td>585800.0</td>\n",
              "      <td>1.094620e+09</td>\n",
              "    </tr>\n",
              "    <tr>\n",
              "      <th>1</th>\n",
              "      <td>20200102</td>\n",
              "      <td>2.0</td>\n",
              "      <td>AAPL34</td>\n",
              "      <td>APPLE</td>\n",
              "      <td>12000.0</td>\n",
              "      <td>12134.0</td>\n",
              "      <td>12000.0</td>\n",
              "      <td>12134.0</td>\n",
              "      <td>12700.0</td>\n",
              "      <td>1.533380e+08</td>\n",
              "    </tr>\n",
              "    <tr>\n",
              "      <th>2</th>\n",
              "      <td>20200102</td>\n",
              "      <td>2.0</td>\n",
              "      <td>ABCB4</td>\n",
              "      <td>ABC BRASIL</td>\n",
              "      <td>2000.0</td>\n",
              "      <td>2030.0</td>\n",
              "      <td>1982.0</td>\n",
              "      <td>2030.0</td>\n",
              "      <td>870400.0</td>\n",
              "      <td>1.745788e+09</td>\n",
              "    </tr>\n",
              "    <tr>\n",
              "      <th>3</th>\n",
              "      <td>20200102</td>\n",
              "      <td>2.0</td>\n",
              "      <td>ABEV3</td>\n",
              "      <td>AMBEV S/A</td>\n",
              "      <td>1886.0</td>\n",
              "      <td>1925.0</td>\n",
              "      <td>1878.0</td>\n",
              "      <td>1920.0</td>\n",
              "      <td>16011300.0</td>\n",
              "      <td>3.062348e+10</td>\n",
              "    </tr>\n",
              "    <tr>\n",
              "      <th>4</th>\n",
              "      <td>20200102</td>\n",
              "      <td>2.0</td>\n",
              "      <td>ADHM3</td>\n",
              "      <td>ADVANCED-DH</td>\n",
              "      <td>255.0</td>\n",
              "      <td>255.0</td>\n",
              "      <td>235.0</td>\n",
              "      <td>248.0</td>\n",
              "      <td>193400.0</td>\n",
              "      <td>4.719270e+07</td>\n",
              "    </tr>\n",
              "  </tbody>\n",
              "</table>\n",
              "</div>"
            ],
            "text/plain": [
              "  Data_Pregao  Cod_BDI  ... Qtd_Titulos_Negociados  Vol_Negocios\n",
              "0    20200102      2.0  ...               585800.0  1.094620e+09\n",
              "1    20200102      2.0  ...                12700.0  1.533380e+08\n",
              "2    20200102      2.0  ...               870400.0  1.745788e+09\n",
              "3    20200102      2.0  ...             16011300.0  3.062348e+10\n",
              "4    20200102      2.0  ...               193400.0  4.719270e+07\n",
              "\n",
              "[5 rows x 10 columns]"
            ]
          },
          "metadata": {},
          "execution_count": 26
        }
      ]
    },
    {
      "cell_type": "markdown",
      "metadata": {
        "id": "V73LXav1XxvT"
      },
      "source": [
        "Agora temos o nosso DataFrame com as informações que queremos. Só falta fazer algumas transformações, por exemplo:\n",
        "* A coluna `Data_Pregao` precisa ser passada para o formato `datetime`. \n",
        "* Também iremos restringir as ações negociadas ao lote padrão, i.e., `Cod_BDI ` com valor 2.0 (No layout tem explicando o que cada código representa).\n",
        "\n",
        "* As colunas referentes ao preço se encontram multiplicadas por 100, precisamos fazer a divisão e passar o tipo para float.\n",
        "\n",
        "##Limpeza"
      ]
    },
    {
      "cell_type": "code",
      "metadata": {
        "id": "WT65lddoY8gm"
      },
      "source": [
        "#Deixando apenas ações com código padrão.\n",
        "df= df[df['Cod_BDI']==2]\n",
        "#Como agora todas as ações possuem código DBI com valor 2, essa coluna não é mais necessária\n",
        "df.drop(columns=['Cod_BDI'], axis = 1, inplace = True );"
      ],
      "execution_count": 27,
      "outputs": []
    },
    {
      "cell_type": "code",
      "metadata": {
        "colab": {
          "base_uri": "https://localhost:8080/",
          "height": 204
        },
        "id": "l1xNnmoWZqnz",
        "outputId": "a2acdff7-4835-4ac0-bee1-fa7441fbe335"
      },
      "source": [
        "df.head()"
      ],
      "execution_count": 28,
      "outputs": [
        {
          "output_type": "execute_result",
          "data": {
            "text/html": [
              "<div>\n",
              "<style scoped>\n",
              "    .dataframe tbody tr th:only-of-type {\n",
              "        vertical-align: middle;\n",
              "    }\n",
              "\n",
              "    .dataframe tbody tr th {\n",
              "        vertical-align: top;\n",
              "    }\n",
              "\n",
              "    .dataframe thead th {\n",
              "        text-align: right;\n",
              "    }\n",
              "</style>\n",
              "<table border=\"1\" class=\"dataframe\">\n",
              "  <thead>\n",
              "    <tr style=\"text-align: right;\">\n",
              "      <th></th>\n",
              "      <th>Data_Pregao</th>\n",
              "      <th>Sigla_Acao</th>\n",
              "      <th>Nome_Acao</th>\n",
              "      <th>Prec_Abertura</th>\n",
              "      <th>Prec_Max</th>\n",
              "      <th>Prec_Min</th>\n",
              "      <th>Prec_Fechamento</th>\n",
              "      <th>Qtd_Titulos_Negociados</th>\n",
              "      <th>Vol_Negocios</th>\n",
              "    </tr>\n",
              "  </thead>\n",
              "  <tbody>\n",
              "    <tr>\n",
              "      <th>0</th>\n",
              "      <td>20200102</td>\n",
              "      <td>AALR3</td>\n",
              "      <td>ALLIAR</td>\n",
              "      <td>1829.0</td>\n",
              "      <td>1900.0</td>\n",
              "      <td>1828.0</td>\n",
              "      <td>1900.0</td>\n",
              "      <td>585800.0</td>\n",
              "      <td>1.094620e+09</td>\n",
              "    </tr>\n",
              "    <tr>\n",
              "      <th>1</th>\n",
              "      <td>20200102</td>\n",
              "      <td>AAPL34</td>\n",
              "      <td>APPLE</td>\n",
              "      <td>12000.0</td>\n",
              "      <td>12134.0</td>\n",
              "      <td>12000.0</td>\n",
              "      <td>12134.0</td>\n",
              "      <td>12700.0</td>\n",
              "      <td>1.533380e+08</td>\n",
              "    </tr>\n",
              "    <tr>\n",
              "      <th>2</th>\n",
              "      <td>20200102</td>\n",
              "      <td>ABCB4</td>\n",
              "      <td>ABC BRASIL</td>\n",
              "      <td>2000.0</td>\n",
              "      <td>2030.0</td>\n",
              "      <td>1982.0</td>\n",
              "      <td>2030.0</td>\n",
              "      <td>870400.0</td>\n",
              "      <td>1.745788e+09</td>\n",
              "    </tr>\n",
              "    <tr>\n",
              "      <th>3</th>\n",
              "      <td>20200102</td>\n",
              "      <td>ABEV3</td>\n",
              "      <td>AMBEV S/A</td>\n",
              "      <td>1886.0</td>\n",
              "      <td>1925.0</td>\n",
              "      <td>1878.0</td>\n",
              "      <td>1920.0</td>\n",
              "      <td>16011300.0</td>\n",
              "      <td>3.062348e+10</td>\n",
              "    </tr>\n",
              "    <tr>\n",
              "      <th>4</th>\n",
              "      <td>20200102</td>\n",
              "      <td>ADHM3</td>\n",
              "      <td>ADVANCED-DH</td>\n",
              "      <td>255.0</td>\n",
              "      <td>255.0</td>\n",
              "      <td>235.0</td>\n",
              "      <td>248.0</td>\n",
              "      <td>193400.0</td>\n",
              "      <td>4.719270e+07</td>\n",
              "    </tr>\n",
              "  </tbody>\n",
              "</table>\n",
              "</div>"
            ],
            "text/plain": [
              "  Data_Pregao Sigla_Acao  ... Qtd_Titulos_Negociados  Vol_Negocios\n",
              "0    20200102      AALR3  ...               585800.0  1.094620e+09\n",
              "1    20200102     AAPL34  ...                12700.0  1.533380e+08\n",
              "2    20200102      ABCB4  ...               870400.0  1.745788e+09\n",
              "3    20200102      ABEV3  ...             16011300.0  3.062348e+10\n",
              "4    20200102      ADHM3  ...               193400.0  4.719270e+07\n",
              "\n",
              "[5 rows x 9 columns]"
            ]
          },
          "metadata": {},
          "execution_count": 28
        }
      ]
    },
    {
      "cell_type": "code",
      "metadata": {
        "id": "0IhKmni8aUUf"
      },
      "source": [
        "#Ajustar Datas\n",
        "df['Data_Pregao'] = pd.to_datetime(df['Data_Pregao'], format='%Y%m%d')"
      ],
      "execution_count": 30,
      "outputs": []
    },
    {
      "cell_type": "code",
      "metadata": {
        "id": "ld_EuDERa9MG"
      },
      "source": [
        "#Ajustar preço\n",
        "df['Prec_Abertura'] = (df['Prec_Abertura']/100).astype(float);\n",
        "df['Prec_Max'] = (df['Prec_Max']/100).astype(float);\n",
        "df['Prec_Min'] = (df['Prec_Min']/100).astype(float);\n",
        "df['Prec_Fechamento'] = (df['Prec_Fechamento']/100).astype(float);"
      ],
      "execution_count": 32,
      "outputs": []
    },
    {
      "cell_type": "code",
      "metadata": {
        "colab": {
          "base_uri": "https://localhost:8080/",
          "height": 204
        },
        "id": "QfSxoJC_c4jZ",
        "outputId": "d33f811f-3de1-4637-b2f8-d6e497a56263"
      },
      "source": [
        "#DataSet Final\n",
        "df.head()"
      ],
      "execution_count": 33,
      "outputs": [
        {
          "output_type": "execute_result",
          "data": {
            "text/html": [
              "<div>\n",
              "<style scoped>\n",
              "    .dataframe tbody tr th:only-of-type {\n",
              "        vertical-align: middle;\n",
              "    }\n",
              "\n",
              "    .dataframe tbody tr th {\n",
              "        vertical-align: top;\n",
              "    }\n",
              "\n",
              "    .dataframe thead th {\n",
              "        text-align: right;\n",
              "    }\n",
              "</style>\n",
              "<table border=\"1\" class=\"dataframe\">\n",
              "  <thead>\n",
              "    <tr style=\"text-align: right;\">\n",
              "      <th></th>\n",
              "      <th>Data_Pregao</th>\n",
              "      <th>Sigla_Acao</th>\n",
              "      <th>Nome_Acao</th>\n",
              "      <th>Prec_Abertura</th>\n",
              "      <th>Prec_Max</th>\n",
              "      <th>Prec_Min</th>\n",
              "      <th>Prec_Fechamento</th>\n",
              "      <th>Qtd_Titulos_Negociados</th>\n",
              "      <th>Vol_Negocios</th>\n",
              "    </tr>\n",
              "  </thead>\n",
              "  <tbody>\n",
              "    <tr>\n",
              "      <th>0</th>\n",
              "      <td>2020-01-02</td>\n",
              "      <td>AALR3</td>\n",
              "      <td>ALLIAR</td>\n",
              "      <td>18.29</td>\n",
              "      <td>19.00</td>\n",
              "      <td>18.28</td>\n",
              "      <td>19.00</td>\n",
              "      <td>585800.0</td>\n",
              "      <td>1.094620e+09</td>\n",
              "    </tr>\n",
              "    <tr>\n",
              "      <th>1</th>\n",
              "      <td>2020-01-02</td>\n",
              "      <td>AAPL34</td>\n",
              "      <td>APPLE</td>\n",
              "      <td>120.00</td>\n",
              "      <td>121.34</td>\n",
              "      <td>120.00</td>\n",
              "      <td>121.34</td>\n",
              "      <td>12700.0</td>\n",
              "      <td>1.533380e+08</td>\n",
              "    </tr>\n",
              "    <tr>\n",
              "      <th>2</th>\n",
              "      <td>2020-01-02</td>\n",
              "      <td>ABCB4</td>\n",
              "      <td>ABC BRASIL</td>\n",
              "      <td>20.00</td>\n",
              "      <td>20.30</td>\n",
              "      <td>19.82</td>\n",
              "      <td>20.30</td>\n",
              "      <td>870400.0</td>\n",
              "      <td>1.745788e+09</td>\n",
              "    </tr>\n",
              "    <tr>\n",
              "      <th>3</th>\n",
              "      <td>2020-01-02</td>\n",
              "      <td>ABEV3</td>\n",
              "      <td>AMBEV S/A</td>\n",
              "      <td>18.86</td>\n",
              "      <td>19.25</td>\n",
              "      <td>18.78</td>\n",
              "      <td>19.20</td>\n",
              "      <td>16011300.0</td>\n",
              "      <td>3.062348e+10</td>\n",
              "    </tr>\n",
              "    <tr>\n",
              "      <th>4</th>\n",
              "      <td>2020-01-02</td>\n",
              "      <td>ADHM3</td>\n",
              "      <td>ADVANCED-DH</td>\n",
              "      <td>2.55</td>\n",
              "      <td>2.55</td>\n",
              "      <td>2.35</td>\n",
              "      <td>2.48</td>\n",
              "      <td>193400.0</td>\n",
              "      <td>4.719270e+07</td>\n",
              "    </tr>\n",
              "  </tbody>\n",
              "</table>\n",
              "</div>"
            ],
            "text/plain": [
              "  Data_Pregao Sigla_Acao  ... Qtd_Titulos_Negociados  Vol_Negocios\n",
              "0  2020-01-02      AALR3  ...               585800.0  1.094620e+09\n",
              "1  2020-01-02     AAPL34  ...                12700.0  1.533380e+08\n",
              "2  2020-01-02      ABCB4  ...               870400.0  1.745788e+09\n",
              "3  2020-01-02      ABEV3  ...             16011300.0  3.062348e+10\n",
              "4  2020-01-02      ADHM3  ...               193400.0  4.719270e+07\n",
              "\n",
              "[5 rows x 9 columns]"
            ]
          },
          "metadata": {},
          "execution_count": 33
        }
      ]
    },
    {
      "cell_type": "markdown",
      "metadata": {
        "id": "Xmq4SWmtdyZw"
      },
      "source": [
        "##Criando uma Função ETL\n",
        "O que queremos agora é criar uma função que passemos esses parâmetros e irá realizar toda limpeza e transformação que fizemos acima de forma otimizada e fazer o download do DataSet final.\n",
        "\n",
        "Iremos criar funções para otimizar esse processo de retirada, limpeza e transformação dos dados.\n",
        "\n",
        "A primeira função `read_files()` vai receber partes das strings que compõe o nome do arquivo, no qual serão concatenadas em uma [f-string](https://realpython.com/python-f-strings/) e criado nosso dataset a partir do método `pd.read_fwf`, que irá receber essa *f-string* como parâmetro (Irá ficar mais claro posteriormente quando aplicar a função)."
      ]
    },
    {
      "cell_type": "code",
      "metadata": {
        "id": "0yPb29hxc6BL"
      },
      "source": [
        "def read_files(path, name_file, year_date, type_file):\n",
        "  _file = f'{path}{name_file}{year_date}.{type_file}'\n",
        "\n",
        "  colspecs = [(2,10), \n",
        "            (10, 12), \n",
        "            (12,24),\n",
        "            (27,39), \n",
        "            (56,69), \n",
        "            (69,82), \n",
        "            (82,95), \n",
        "            (108,121), \n",
        "            (152,170), \n",
        "            (170, 188)\n",
        "            ]\n",
        "\n",
        "  names = ['Data_Pregao', 'Cod_BDI', 'Sigla_Acao', 'Nome_Acao', 'Prec_Abertura', 'Prec_Max', \n",
        "         'Prec_Min', 'Prec_Fechamento', 'Qtd_Titulos_Negociados', 'Vol_Negocios']\n",
        "\n",
        "  df = pd.read_fwf(_file, colspecs=colspecs, names=names, skiprows = 1) \n",
        "\n",
        "  return df"
      ],
      "execution_count": 15,
      "outputs": []
    },
    {
      "cell_type": "markdown",
      "metadata": {
        "id": "D1KkGX4foBV3"
      },
      "source": [
        "As demais funções `filter_stocks`, `parse_date`, `parse_values` fazem a limpeza e a transformações das colunas que vimos acima. "
      ]
    },
    {
      "cell_type": "code",
      "metadata": {
        "id": "eEnfxSk-e-Hw"
      },
      "source": [
        "def filter_stocks(df):\n",
        "  df = df[df['Cod_BDI']==2]\n",
        "  df.drop(columns=['Cod_BDI'], axis = 1, inplace = True );\n",
        "  return df"
      ],
      "execution_count": 16,
      "outputs": []
    },
    {
      "cell_type": "code",
      "metadata": {
        "id": "ifUGI92rgUc_"
      },
      "source": [
        "def parse_date(df):\n",
        "  df['Data_Pregao'] = pd.to_datetime(df['Data_Pregao'], format='%Y%m%d')\n",
        "  return df"
      ],
      "execution_count": 17,
      "outputs": []
    },
    {
      "cell_type": "code",
      "metadata": {
        "id": "UZ5LI9Gpghv_"
      },
      "source": [
        "def parse_values(df):\n",
        "  df['Prec_Abertura'] = (df['Prec_Abertura']/100).astype(float)\n",
        "  df['Prec_Max'] = (df['Prec_Max']/100).astype(float)\n",
        "  df['Prec_Min'] = (df['Prec_Min']/100).astype(float)\n",
        "  df['Prec_Fechamento'] = (df['Prec_Fechamento']/100).astype(float)\n",
        "  return df"
      ],
      "execution_count": 18,
      "outputs": []
    },
    {
      "cell_type": "markdown",
      "metadata": {
        "id": "297y6KUSobnt"
      },
      "source": [
        "As cotações históricas da B3 possuem informações desde a década de 80. O código abaixo irá pegar uma lista com os anos no qual quer analisar, cria um arquivo csv contendo as informações que pedimos acima para todos esses anos e finalmente disponibilizar para download. No qual agora pode ser feita a análise do dataset de forma prática.\n"
      ]
    },
    {
      "cell_type": "code",
      "metadata": {
        "id": "_eDUHyQlgueX"
      },
      "source": [
        "#Juntando os arquivos\n",
        "def concat_files(path, name_file, year_date, type_file, final_file):\n",
        "  \n",
        "  for i, y in enumerate(year_date):\n",
        "    df = read_files(path, name_file, y, type_file)\n",
        "    df = filter_stocks(df)\n",
        "    df = parse_date(df)\n",
        "    df = parse_values(df)\n",
        "    '''i=0 se refere ao primeiro dataset, logo ele será chamado de final na primeira iteração\n",
        "       nas demais, ele irá concatenar os dataframes em um só. '''\n",
        "    if i == 0:\n",
        "      df_final = df\n",
        "    else:\n",
        "      df_final = pd.concat([df_final, df])\n",
        "\n",
        "    df_final.to_csv(final_file, index=False)\n",
        "    \n",
        "    "
      ],
      "execution_count": 19,
      "outputs": []
    },
    {
      "cell_type": "markdown",
      "metadata": {
        "id": "iu8LTo6Xp122"
      },
      "source": [
        "Aqui abaixo se encontram os anos das cotações que irei disponibilizar no arquivo csv. "
      ]
    },
    {
      "cell_type": "code",
      "metadata": {
        "colab": {
          "base_uri": "https://localhost:8080/"
        },
        "id": "iLfWmDyNi9PI",
        "outputId": "e0c2e524-a21b-4621-f0ba-1464b3daeeb9"
      },
      "source": [
        "#Executando o ETL\n",
        "year_date = [2018, 2019, 2020,2021]\n",
        "path = f'/content/drive/MyDrive/'\n",
        "name_file = 'COTAHIST_A'\n",
        "type_file ='TXT'\n",
        "final_file = 'All_Bovespa.csv'\n",
        "concat_files(path, name_file, year_date, type_file, final_file);\n"
      ],
      "execution_count": 22,
      "outputs": [
        {
          "output_type": "stream",
          "name": "stderr",
          "text": [
            "/usr/local/lib/python3.7/dist-packages/pandas/core/frame.py:4174: SettingWithCopyWarning: \n",
            "A value is trying to be set on a copy of a slice from a DataFrame\n",
            "\n",
            "See the caveats in the documentation: https://pandas.pydata.org/pandas-docs/stable/user_guide/indexing.html#returning-a-view-versus-a-copy\n",
            "  errors=errors,\n",
            "/usr/local/lib/python3.7/dist-packages/pandas/core/frame.py:4174: SettingWithCopyWarning: \n",
            "A value is trying to be set on a copy of a slice from a DataFrame\n",
            "\n",
            "See the caveats in the documentation: https://pandas.pydata.org/pandas-docs/stable/user_guide/indexing.html#returning-a-view-versus-a-copy\n",
            "  errors=errors,\n",
            "/usr/local/lib/python3.7/dist-packages/pandas/core/frame.py:4174: SettingWithCopyWarning: \n",
            "A value is trying to be set on a copy of a slice from a DataFrame\n",
            "\n",
            "See the caveats in the documentation: https://pandas.pydata.org/pandas-docs/stable/user_guide/indexing.html#returning-a-view-versus-a-copy\n",
            "  errors=errors,\n",
            "/usr/local/lib/python3.7/dist-packages/pandas/core/frame.py:4174: SettingWithCopyWarning: \n",
            "A value is trying to be set on a copy of a slice from a DataFrame\n",
            "\n",
            "See the caveats in the documentation: https://pandas.pydata.org/pandas-docs/stable/user_guide/indexing.html#returning-a-view-versus-a-copy\n",
            "  errors=errors,\n"
          ]
        }
      ]
    },
    {
      "cell_type": "markdown",
      "metadata": {
        "id": "See0da87u9VD"
      },
      "source": [
        "##Download"
      ]
    },
    {
      "cell_type": "code",
      "metadata": {
        "colab": {
          "base_uri": "https://localhost:8080/",
          "height": 17
        },
        "id": "XZiLH4ykqZ_e",
        "outputId": "6f67fa08-d50d-4d31-bfef-0dec23f733cb"
      },
      "source": [
        "#Download do arquivo csv criado\n",
        "from google.colab import files\n",
        "files.download(final_file)"
      ],
      "execution_count": 23,
      "outputs": [
        {
          "output_type": "display_data",
          "data": {
            "application/javascript": [
              "\n",
              "    async function download(id, filename, size) {\n",
              "      if (!google.colab.kernel.accessAllowed) {\n",
              "        return;\n",
              "      }\n",
              "      const div = document.createElement('div');\n",
              "      const label = document.createElement('label');\n",
              "      label.textContent = `Downloading \"${filename}\": `;\n",
              "      div.appendChild(label);\n",
              "      const progress = document.createElement('progress');\n",
              "      progress.max = size;\n",
              "      div.appendChild(progress);\n",
              "      document.body.appendChild(div);\n",
              "\n",
              "      const buffers = [];\n",
              "      let downloaded = 0;\n",
              "\n",
              "      const channel = await google.colab.kernel.comms.open(id);\n",
              "      // Send a message to notify the kernel that we're ready.\n",
              "      channel.send({})\n",
              "\n",
              "      for await (const message of channel.messages) {\n",
              "        // Send a message to notify the kernel that we're ready.\n",
              "        channel.send({})\n",
              "        if (message.buffers) {\n",
              "          for (const buffer of message.buffers) {\n",
              "            buffers.push(buffer);\n",
              "            downloaded += buffer.byteLength;\n",
              "            progress.value = downloaded;\n",
              "          }\n",
              "        }\n",
              "      }\n",
              "      const blob = new Blob(buffers, {type: 'application/binary'});\n",
              "      const a = document.createElement('a');\n",
              "      a.href = window.URL.createObjectURL(blob);\n",
              "      a.download = filename;\n",
              "      div.appendChild(a);\n",
              "      a.click();\n",
              "      div.remove();\n",
              "    }\n",
              "  "
            ],
            "text/plain": [
              "<IPython.core.display.Javascript object>"
            ]
          },
          "metadata": {}
        },
        {
          "output_type": "display_data",
          "data": {
            "application/javascript": [
              "download(\"download_c7ec16cc-3c24-44c1-b4e0-d9b6976fcd06\", \"All_Bovespa.csv\", 29805579)"
            ],
            "text/plain": [
              "<IPython.core.display.Javascript object>"
            ]
          },
          "metadata": {}
        }
      ]
    }
  ]
}